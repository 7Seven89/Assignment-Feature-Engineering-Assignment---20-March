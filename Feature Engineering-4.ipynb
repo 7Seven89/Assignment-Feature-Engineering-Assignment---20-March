{
 "cells": [
  {
   "cell_type": "markdown",
   "id": "6a32ad91-b226-4fdd-a46a-6934e9e4705a",
   "metadata": {},
   "source": [
    "### Q1. What is data encoding? How is it useful in data science?\n",
    "\n",
    "**Data encoding** is the process of converting categorical data into a numerical format that machine learning algorithms can interpret. It is essential in data science because most algorithms require numerical inputs to perform computations, and encoding ensures that categorical features can be effectively utilized in models."
   ]
  },
  {
   "cell_type": "markdown",
   "id": "f204e64e-5f20-42a5-adee-3fa752ff38c6",
   "metadata": {},
   "source": []
  },
  {
   "cell_type": "markdown",
   "id": "97adf35f-b2d7-4362-ad57-b68b7b1b3a0a",
   "metadata": {},
   "source": [
    "### Q2. What is nominal encoding? Provide an example of how you would use it in a real-world scenario.\n",
    "\n",
    "**Nominal encoding** assigns integer values to categorical variables without implying any ordinal relationship. For instance, if we have a categorical feature \"Color\" with values \"Red,\" \"Green,\" and \"Blue,\" we might encode them as follows: Red = 1, Green = 2, Blue = 3. \n",
    "\n",
    "**Example**: In a retail dataset, if we have a feature \"Payment Method\" with categories \"Cash,\" \"Credit,\" and \"Debit,\" we could encode them as follows: Cash = 1, Credit = 2, Debit = 3. This allows us to include the \"Payment Method\" feature in a predictive model without losing the information about the category."
   ]
  },
  {
   "cell_type": "markdown",
   "id": "d3479d8d-c96a-4f24-b1c8-6132160b4e9d",
   "metadata": {},
   "source": []
  },
  {
   "cell_type": "markdown",
   "id": "238b9903-fe9d-47ac-8c26-4bde594dd5bf",
   "metadata": {},
   "source": [
    "### Q3. In what situations is nominal encoding preferred over one-hot encoding? Provide a practical example.\n",
    "\n",
    "**Nominal encoding** is preferred when the number of unique categories is small, and there is no need for creating multiple binary columns, which can increase the dimensionality of the dataset unnecessarily. \n",
    "\n",
    "**Example**: If you have a categorical feature like \"Day of the Week\" with values \"Monday,\" \"Tuesday,\" \"Wednesday,\" \"Thursday,\" \"Friday,\" \"Saturday,\" and \"Sunday,\" using nominal encoding could be simpler and more efficient than one-hot encoding, which would create seven additional columns."
   ]
  },
  {
   "cell_type": "markdown",
   "id": "40d5d3ef-f1bb-4327-ab4c-ab1337a1023c",
   "metadata": {},
   "source": []
  },
  {
   "cell_type": "markdown",
   "id": "c4d6fbda-a8f9-4da1-8b78-eb1fa20701ba",
   "metadata": {},
   "source": [
    "### Q4. Suppose you have a dataset containing categorical data with 5 unique values. Which encoding technique would you use to transform this data into a format suitable for machine learning algorithms? Explain why you made this choice.\n",
    "\n",
    "For a dataset containing categorical data with 5 unique values, I would use **nominal encoding**. This choice is justified because nominal encoding efficiently converts the categorical data into a numerical format without adding extra dimensions, which is beneficial when the categorical feature has a manageable number of unique values."
   ]
  },
  {
   "cell_type": "markdown",
   "id": "886ac840-6651-441f-8d9e-70120d28ad98",
   "metadata": {},
   "source": []
  },
  {
   "cell_type": "markdown",
   "id": "02fa7be9-c554-4b91-8492-9d5eed494db3",
   "metadata": {},
   "source": [
    "### Q5. In a machine learning project, you have a dataset with 1000 rows and 5 columns. Two of the columns are categorical, and the remaining three columns are numerical. If you were to use nominal encoding to transform the categorical data, how many new columns would be created? Show your calculations.\n",
    "\n",
    "If using nominal encoding, each categorical column will be transformed into a single column with integer values. Therefore, if there are two categorical columns:\n",
    "\n",
    "- Original columns = 5\n",
    "- Categorical columns = 2\n",
    "- New columns created = 2 (one for each categorical column)\n",
    "\n",
    "The total number of columns remains 5, as nominal encoding does not add additional columns."
   ]
  },
  {
   "cell_type": "markdown",
   "id": "1cccce59-e4f1-4df7-a9da-3e9e64dc6cc9",
   "metadata": {},
   "source": []
  },
  {
   "cell_type": "markdown",
   "id": "cbfabfe2-7726-490b-b273-8f9f37125bf7",
   "metadata": {},
   "source": [
    "### Q6. You are working with a dataset containing information about different types of animals, including their species, habitat, and diet. Which encoding technique would you use to transform the categorical data into a format suitable for machine learning algorithms? Justify your answer.\n",
    "\n",
    "For this dataset, I would use **one-hot encoding** for categorical features like \"Species\" and \"Habitat.\" The reason is that these features do not have a natural order, and one-hot encoding avoids imposing any ordinal relationships while ensuring that the model can interpret each category distinctly. This approach is particularly useful when the categories are non-ordinal and when the number of unique categories is manageable."
   ]
  },
  {
   "cell_type": "markdown",
   "id": "21546a73-cbe2-4ab2-be8e-1ad5adab82e9",
   "metadata": {},
   "source": []
  },
  {
   "cell_type": "markdown",
   "id": "127054ba-22b6-4c33-84d5-c1fb489c4797",
   "metadata": {},
   "source": [
    "### Q7. You are working on a project that involves predicting customer churn for a telecommunications company. You have a dataset with 5 features, including the customer's gender, age, contract type, monthly charges, and tenure. Which encoding technique(s) would you use to transform the categorical data into numerical data? Provide a step-by-step explanation of how you would implement the encoding.\n",
    "\n",
    "1. **Identify Categorical Features**: In this dataset, the categorical features are \"Gender\" and \"Contract Type.\"\n",
    "\n",
    "2. **Choose Encoding Techniques**: \n",
    "   - Use **nominal encoding** for \"Gender\" (assuming two categories: Male, Female). This will create a single new column.\n",
    "   - Use **one-hot encoding** for \"Contract Type\" if it has multiple categories (e.g., Month-to-Month, One Year, Two Years). This will create multiple columns, one for each contract type.\n",
    "\n",
    "3. **Implement Encoding**:\n",
    "   - For \"Gender\":\n",
    "     - Male = 0\n",
    "     - Female = 1\n",
    "   - For \"Contract Type\":\n",
    "     - Apply one-hot encoding, creating separate columns for each contract type. For example:\n",
    "       - Month-to-Month = [1, 0, 0]\n",
    "       - One Year = [0, 1, 0]\n",
    "       - Two Years = [0, 0, 1]\n",
    "\n",
    "4. **Combine Encoded Features**: Merge the newly encoded columns with the numerical features (\"Age,\" \"Monthly Charges,\" and \"Tenure\") to create a final dataset suitable for training a machine learning model."
   ]
  },
  {
   "cell_type": "markdown",
   "id": "9576873c-6e01-4de9-9ebc-9ec1b2527ffa",
   "metadata": {},
   "source": []
  }
 ],
 "metadata": {
  "kernelspec": {
   "display_name": "Python 3 (ipykernel)",
   "language": "python",
   "name": "python3"
  },
  "language_info": {
   "codemirror_mode": {
    "name": "ipython",
    "version": 3
   },
   "file_extension": ".py",
   "mimetype": "text/x-python",
   "name": "python",
   "nbconvert_exporter": "python",
   "pygments_lexer": "ipython3",
   "version": "3.12.5"
  }
 },
 "nbformat": 4,
 "nbformat_minor": 5
}
